{
 "cells": [
  {
   "cell_type": "code",
   "execution_count": 1,
   "metadata": {},
   "outputs": [],
   "source": [
    "def all_thing_is_obj(object: any) -> int:\n",
    "\ttyp = type(object)\n",
    "\tif typ is list:\n",
    "\t\tprint(f'List: {typ}')\n",
    "\telif typ is tuple:\n",
    "\t\tprint(f'Tuple: {typ}')\n",
    "\telif typ is set:\n",
    "\t\tprint(f'Set: {typ}')\n",
    "\telif typ is dict:\n",
    "\t\tprint(f'Dict: {typ}')\n",
    "\telif typ is str:\n",
    "\t\tprint(f'{object} is in the kitchen: {typ}')\n",
    "\telse:\n",
    "\t\tprint('Type not found')\n",
    "\treturn 42"
   ]
  },
  {
   "cell_type": "code",
   "execution_count": 2,
   "metadata": {},
   "outputs": [
    {
     "name": "stdout",
     "output_type": "stream",
     "text": [
      "List: <class 'list'>\n",
      "Tuple: <class 'tuple'>\n",
      "Set: <class 'set'>\n",
      "Dict: <class 'dict'>\n",
      "Brain is in the kitchen: <class 'str'>\n",
      "Type not found\n",
      "42\n"
     ]
    }
   ],
   "source": [
    "ft_list = ['Hello', 'tata!']\n",
    "ft_tuple = ('Hello', 'toto!')\n",
    "ft_set = {'Hello', 'tutu!'}\n",
    "ft_dict = {'Hello': 'titi!'}\n",
    "\n",
    "all_thing_is_obj(ft_list)\n",
    "all_thing_is_obj(ft_tuple)\n",
    "all_thing_is_obj(ft_set)\n",
    "all_thing_is_obj(ft_dict)\n",
    "all_thing_is_obj('Brain')\n",
    "print(all_thing_is_obj(10))"
   ]
  }
 ],
 "metadata": {
  "kernelspec": {
   "display_name": "Python 3",
   "language": "python",
   "name": "python3"
  },
  "language_info": {
   "codemirror_mode": {
    "name": "ipython",
    "version": 3
   },
   "file_extension": ".py",
   "mimetype": "text/x-python",
   "name": "python",
   "nbconvert_exporter": "python",
   "pygments_lexer": "ipython3",
   "version": "3.12.1"
  }
 },
 "nbformat": 4,
 "nbformat_minor": 2
}
