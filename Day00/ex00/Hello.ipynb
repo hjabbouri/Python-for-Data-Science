{
 "cells": [
  {
   "cell_type": "code",
   "execution_count": 59,
   "metadata": {},
   "outputs": [
    {
     "name": "stdout",
     "output_type": "stream",
     "text": [
      "['Hello', 'tata!']\n",
      "('Hello', 'toto!')\n",
      "{'tutu!', 'Hello'}\n",
      "{'Hello': 'titi!'}\n"
     ]
    }
   ],
   "source": [
    "ft_list = [\"Hello\", \"tata!\"]\n",
    "ft_tuple = (\"Hello\", \"toto!\")\n",
    "ft_set = {\"Hello\", \"tutu!\"}\n",
    "ft_dict = {\"Hello\" : \"titi!\"}\n",
    "#your code here\n",
    "print(ft_list)\n",
    "print(ft_tuple)\n",
    "print(ft_set)\n",
    "print(ft_dict)"
   ]
  },
  {
   "cell_type": "code",
   "execution_count": 60,
   "metadata": {},
   "outputs": [
    {
     "name": "stdout",
     "output_type": "stream",
     "text": [
      "['Hello', 'World']\n"
     ]
    }
   ],
   "source": [
    "ft_list[1] = 'World'\n",
    "#your code here\n",
    "print(ft_list)"
   ]
  },
  {
   "cell_type": "code",
   "execution_count": 61,
   "metadata": {},
   "outputs": [
    {
     "name": "stdout",
     "output_type": "stream",
     "text": [
      "('Hello', 'Morroco')\n"
     ]
    }
   ],
   "source": [
    "tmp_list = list(ft_tuple)\n",
    "tmp_list[1] = 'Morroco'\n",
    "ft_tuple = tuple(tmp_list)\n",
    "print(ft_tuple)"
   ]
  },
  {
   "cell_type": "code",
   "execution_count": 62,
   "metadata": {},
   "outputs": [
    {
     "name": "stdout",
     "output_type": "stream",
     "text": [
      "{'Khouribga', 'Hello'}\n"
     ]
    }
   ],
   "source": [
    "ft_set.remove('tutu!')\n",
    "# ft_set.update({'Khouribga'})\n",
    "ft_set.add('Khouribga')\n",
    "#your code here\n",
    "print(ft_set)"
   ]
  },
  {
   "cell_type": "code",
   "execution_count": 63,
   "metadata": {},
   "outputs": [
    {
     "name": "stdout",
     "output_type": "stream",
     "text": [
      "{'Hello': '1337'}\n"
     ]
    }
   ],
   "source": [
    "ft_dict['Hello'] = '1337'\n",
    "#your code here\n",
    "print(ft_dict)"
   ]
  },
  {
   "cell_type": "code",
   "execution_count": 64,
   "metadata": {},
   "outputs": [
    {
     "name": "stdout",
     "output_type": "stream",
     "text": [
      "['Hello', 'World']\n",
      "('Hello', 'Morroco')\n",
      "{'Khouribga', 'Hello'}\n",
      "{'Hello': '1337'}\n"
     ]
    }
   ],
   "source": [
    "print(ft_list)\n",
    "print(ft_tuple)\n",
    "print(ft_set)\n",
    "print(ft_dict)"
   ]
  },
  {
   "cell_type": "code",
   "execution_count": 2,
   "metadata": {},
   "outputs": [
    {
     "name": "stdout",
     "output_type": "stream",
     "text": [
      "['Hello', 'World']^M$\n",
      "('Hello', 'Morroco')^M$\n",
      "{'Khouribga', 'Hello'}^M$\n",
      "{'Hello': '1337'}^M$\n"
     ]
    }
   ],
   "source": [
    "!python3 Hello.py | cat -e"
   ]
  }
 ],
 "metadata": {
  "kernelspec": {
   "display_name": "Python 3",
   "language": "python",
   "name": "python3"
  },
  "language_info": {
   "codemirror_mode": {
    "name": "ipython",
    "version": 3
   },
   "file_extension": ".py",
   "mimetype": "text/x-python",
   "name": "python",
   "nbconvert_exporter": "python",
   "pygments_lexer": "ipython3",
   "version": "3.12.1"
  }
 },
 "nbformat": 4,
 "nbformat_minor": 2
}
