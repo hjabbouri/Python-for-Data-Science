{
 "cells": [
  {
   "cell_type": "code",
   "execution_count": 1,
   "metadata": {},
   "outputs": [
    {
     "name": "stdout",
     "output_type": "stream",
     "text": [
      "Seconds since January 1, 1970: 1705624897.8551815 or 1.7e+09 in scientific notation\n",
      "Jan 19 2024\n"
     ]
    }
   ],
   "source": [
    "from time import time, gmtime, strftime\n",
    "\n",
    "current_time = gmtime()\n",
    "\n",
    "total_sec = time()\n",
    "\n",
    "print(f'Seconds since January 1, 1970: {total_sec} or {total_sec:.2} in scientific notation')\n",
    "\n",
    "print(strftime('%b %d %Y', current_time))"
   ]
  }
 ],
 "metadata": {
  "kernelspec": {
   "display_name": "Python 3",
   "language": "python",
   "name": "python3"
  },
  "language_info": {
   "codemirror_mode": {
    "name": "ipython",
    "version": 3
   },
   "file_extension": ".py",
   "mimetype": "text/x-python",
   "name": "python",
   "nbconvert_exporter": "python",
   "pygments_lexer": "ipython3",
   "version": "3.12.1"
  }
 },
 "nbformat": 4,
 "nbformat_minor": 2
}
