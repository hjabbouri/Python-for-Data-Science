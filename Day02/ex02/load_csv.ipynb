{
 "cells": [
  {
   "cell_type": "code",
   "execution_count": null,
   "metadata": {},
   "outputs": [],
   "source": [
    "import pandas as pd\n",
    "\n",
    "\n",
    "def load(path: str) -> pd.DataFrame:\n",
    "    try:\n",
    "        df = pd.read_csv(path)\n",
    "        print('Loading dataset of dimensions ', df.shape)\n",
    "    except FileNotFoundError as e:\n",
    "        print(e)\n",
    "    return df\n",
    "\n",
    "\n",
    "print(load('../life_expectancy_years.csv').head(5))\n"
   ]
  }
 ],
 "metadata": {
  "language_info": {
   "name": "python"
  }
 },
 "nbformat": 4,
 "nbformat_minor": 2
}
